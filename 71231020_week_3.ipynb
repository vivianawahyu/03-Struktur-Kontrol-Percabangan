{
  "nbformat": 4,
  "nbformat_minor": 0,
  "metadata": {
    "colab": {
      "provenance": []
    },
    "kernelspec": {
      "name": "python3",
      "display_name": "Python 3"
    },
    "language_info": {
      "name": "python"
    }
  },
  "cells": [
    {
      "cell_type": "code",
      "execution_count": null,
      "metadata": {
        "id": "p4qfnKkVpr9O"
      },
      "outputs": [],
      "source": []
    },
    {
      "cell_type": "markdown",
      "source": [
        "soal 1\n"
      ],
      "metadata": {
        "id": "a24OvtzFpsxa"
      }
    },
    {
      "cell_type": "code",
      "source": [
        "#soal 1.1#\n",
        "suhu_tubuh = input(\"masukkan suhu tubuh: \")\n",
        "try:\n",
        "    suhu_tubuh = int(suhu_tubuh)\n",
        "    if suhu_tubuh >= 38:\n",
        "        print(\"anda demam\")\n",
        "    else:\n",
        "        print(\"anda tidak demam\")\n",
        "\n",
        "except:\n",
        "    print (\"data anda tidak benar\")\n"
      ],
      "metadata": {
        "colab": {
          "base_uri": "https://localhost:8080/"
        },
        "id": "-kOK9zaEpugC",
        "outputId": "4cb4fcdc-5b60-411e-8b27-de5137e5ffda"
      },
      "execution_count": 2,
      "outputs": [
        {
          "output_type": "stream",
          "name": "stdout",
          "text": [
            "masukkan suhu tubuh: 34\n",
            "anda tidak demam\n"
          ]
        }
      ]
    },
    {
      "cell_type": "code",
      "source": [
        "#soal 1.2#\n",
        "bilangan = input(\"masukkan angka: \")\n",
        "\n",
        "try :\n",
        "    bilangan = int(bilangan)\n",
        "    if bilangan > 0:\n",
        "        print(\"nilai positif \")\n",
        "    elif bilangan < 0:\n",
        "        print(\"nilai negatif \")\n",
        "    else:\n",
        "        print(\"nilai nol \")\n",
        "\n",
        "except:\n",
        "    print(\"data anda tidak valid\")"
      ],
      "metadata": {
        "colab": {
          "base_uri": "https://localhost:8080/"
        },
        "id": "1ak3uSCfqeH9",
        "outputId": "80ebfe16-9999-4960-cbb3-429160b9f86c"
      },
      "execution_count": 4,
      "outputs": [
        {
          "output_type": "stream",
          "name": "stdout",
          "text": [
            "masukkan angka: 0\n",
            "nilai nol \n"
          ]
        }
      ]
    },
    {
      "cell_type": "code",
      "source": [
        "#soal 1.3#\n",
        "a = int(input(\"Masukkan bilangan pertama: \"))\n",
        "b = int(input(\"Masukkan bilangan kedua: \"))\n",
        "c = int(input(\"Masukkan bilangan ketiga: \"))\n",
        "\n",
        "try:\n",
        "    a = int(a)\n",
        "    b = int(b)\n",
        "    c = int(c)\n",
        "\n",
        "    if a > b and a > c:\n",
        "         print(\"Terbesar: \", a)\n",
        "    elif b > a and b > c:\n",
        "        print(\"Terbesar: \", b)\n",
        "    elif c > a and c > b:\n",
        "        print(\"Terbesar: \", c)\n",
        "\n",
        "except:\n",
        "    print(\"data anda tidak valid\")"
      ],
      "metadata": {
        "colab": {
          "base_uri": "https://localhost:8080/"
        },
        "id": "8sXF0pYqrAv2",
        "outputId": "4c5f3f44-3fa1-4eac-83ab-b912bb537bce"
      },
      "execution_count": 6,
      "outputs": [
        {
          "output_type": "stream",
          "name": "stdout",
          "text": [
            "Masukkan bilangan pertama: 7\n",
            "Masukkan bilangan kedua: 6\n",
            "Masukkan bilangan ketiga: 9\n",
            "Terbesar:  9\n"
          ]
        }
      ]
    },
    {
      "cell_type": "markdown",
      "source": [
        "soal 2\n"
      ],
      "metadata": {
        "id": "mvNtjXFVrNnt"
      }
    },
    {
      "cell_type": "code",
      "source": [
        "bilangan = int(input(\"masukkan angka:\" ))\n",
        "if bilangan > 0:\n",
        "    print(\"bilangan positif\")\n",
        "elif bilangan < 0:\n",
        "    print(\"bilangan negatif\")\n",
        "elif bilangan == 0:\n",
        "    print(\"bilangan nol\")"
      ],
      "metadata": {
        "colab": {
          "base_uri": "https://localhost:8080/"
        },
        "id": "OR7MTS5frO_Q",
        "outputId": "2cd539df-a244-4677-aa11-c814339b4ae2"
      },
      "execution_count": 7,
      "outputs": [
        {
          "output_type": "stream",
          "name": "stdout",
          "text": [
            "masukkan angka:6\n",
            "bilangan positif\n"
          ]
        }
      ]
    },
    {
      "cell_type": "code",
      "source": [
        "soal 3"
      ],
      "metadata": {
        "id": "ck6PsBWdrUPs"
      },
      "execution_count": null,
      "outputs": []
    },
    {
      "cell_type": "code",
      "source": [
        "import calendar\n",
        "try:\n",
        "    bulan = int(input(\"masukkan bulan 1-12: \"))\n",
        "    tahun = 2024\n",
        "    if bulan == 1:\n",
        "        print(\"31\")\n",
        "    elif bulan == 2:\n",
        "        print(\"29\")\n",
        "    elif bulan == 3:\n",
        "        print(\"31\")\n",
        "    elif bulan == 4:\n",
        "        print(\"30\")\n",
        "    elif bulan == 5:\n",
        "        print(\"31\")\n",
        "    elif bulan == 6:\n",
        "        print(\"30\")\n",
        "    elif bulan == 7:\n",
        "        print(\"31\")\n",
        "    elif bulan == 8:\n",
        "        print (\"31\")\n",
        "    elif bulan == 9:\n",
        "        print (\"30\")\n",
        "    elif bulan == 10:\n",
        "        print (\"31\")\n",
        "    elif bulan == 11:\n",
        "        print(\"30\")\n",
        "    elif bulan == 12:\n",
        "        print(\"31\")\n",
        "    else:\n",
        "        print(\"bulan tidak ada dalam kalender\")\n",
        "except:\n",
        "    print(\"data anda salah\")\n",
        "\n"
      ],
      "metadata": {
        "colab": {
          "base_uri": "https://localhost:8080/"
        },
        "id": "ukP55sZNrWbQ",
        "outputId": "ed8c6266-cab6-4cf8-a130-5cc2192df3ed"
      },
      "execution_count": 8,
      "outputs": [
        {
          "output_type": "stream",
          "name": "stdout",
          "text": [
            "masukkan bulan 1-12: 8\n",
            "31\n"
          ]
        }
      ]
    },
    {
      "cell_type": "markdown",
      "source": [
        "soal 4"
      ],
      "metadata": {
        "id": "U09u_JFvrdwU"
      }
    },
    {
      "cell_type": "code",
      "source": [
        "try:\n",
        "    print(\"masukkan data dalam bilangan bulat\")\n",
        "\n",
        "    sisi_1 = int(input(\"masukkan sisi 1: \"))\n",
        "    sisi_2 = int(input(\"masukkan sisi 2: \"))\n",
        "    sisi_3 = int(input(\"masukkan sisi 3: \"))\n",
        "\n",
        "    if sisi_1 == sisi_2 == sisi_3:\n",
        "         print(\"ketiganya sama\")\n",
        "    elif sisi_1 == sisi_2 != sisi_3:\n",
        "        print(\"kedua sisi sama\")\n",
        "    elif sisi_2 == sisi_3 != sisi_1:\n",
        "        print(\"kedua sisi sama\")\n",
        "    elif sisi_1 == sisi_3 !=sisi_2:\n",
        "        print(\"keduanya sama\")\n",
        "    else:\n",
        "        print(\"tidak ada sisi sama\")\n",
        "except:\n",
        "    print(\"data anda salah\")\n"
      ],
      "metadata": {
        "colab": {
          "base_uri": "https://localhost:8080/"
        },
        "id": "rAd69LOJrfPr",
        "outputId": "0164a0e6-2c37-4b28-8a52-c710c0f87b44"
      },
      "execution_count": 9,
      "outputs": [
        {
          "output_type": "stream",
          "name": "stdout",
          "text": [
            "masukkan data dalam bilangan bulat\n",
            "masukkan sisi 1: 10\n",
            "masukkan sisi 2: 10\n",
            "masukkan sisi 3: 4\n",
            "kedua sisi sama\n"
          ]
        }
      ]
    }
  ]
}